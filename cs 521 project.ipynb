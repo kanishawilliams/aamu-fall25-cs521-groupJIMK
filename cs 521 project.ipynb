{
 "cells": [
  {
   "cell_type": "code",
   "execution_count": 7,
   "id": "4a509333-3bc0-4a71-a81e-a167cdc360ce",
   "metadata": {},
   "outputs": [
    {
     "name": "stdout",
     "output_type": "stream",
     "text": [
      "  having_IP_Address URL_Length Shortining_Service having_At_Symbol  \\\n",
      "0             b'-1'       b'1'               b'1'             b'1'   \n",
      "1              b'1'       b'1'               b'1'             b'1'   \n",
      "2              b'1'       b'0'               b'1'             b'1'   \n",
      "3              b'1'       b'0'               b'1'             b'1'   \n",
      "4              b'1'       b'0'              b'-1'             b'1'   \n",
      "\n",
      "  double_slash_redirecting Prefix_Suffix having_Sub_Domain SSLfinal_State  \\\n",
      "0                    b'-1'         b'-1'             b'-1'          b'-1'   \n",
      "1                     b'1'         b'-1'              b'0'           b'1'   \n",
      "2                     b'1'         b'-1'             b'-1'          b'-1'   \n",
      "3                     b'1'         b'-1'             b'-1'          b'-1'   \n",
      "4                     b'1'         b'-1'              b'1'           b'1'   \n",
      "\n",
      "  Domain_registeration_length Favicon  ... popUpWidnow Iframe age_of_domain  \\\n",
      "0                       b'-1'    b'1'  ...        b'1'   b'1'         b'-1'   \n",
      "1                       b'-1'    b'1'  ...        b'1'   b'1'         b'-1'   \n",
      "2                       b'-1'    b'1'  ...        b'1'   b'1'          b'1'   \n",
      "3                        b'1'    b'1'  ...        b'1'   b'1'         b'-1'   \n",
      "4                       b'-1'    b'1'  ...       b'-1'   b'1'         b'-1'   \n",
      "\n",
      "  DNSRecord web_traffic Page_Rank Google_Index Links_pointing_to_page  \\\n",
      "0     b'-1'       b'-1'     b'-1'         b'1'                   b'1'   \n",
      "1     b'-1'        b'0'     b'-1'         b'1'                   b'1'   \n",
      "2     b'-1'        b'1'     b'-1'         b'1'                   b'0'   \n",
      "3     b'-1'        b'1'     b'-1'         b'1'                  b'-1'   \n",
      "4     b'-1'        b'0'     b'-1'         b'1'                   b'1'   \n",
      "\n",
      "  Statistical_report Result  \n",
      "0              b'-1'  b'-1'  \n",
      "1               b'1'  b'-1'  \n",
      "2              b'-1'  b'-1'  \n",
      "3               b'1'  b'-1'  \n",
      "4               b'1'   b'1'  \n",
      "\n",
      "[5 rows x 31 columns]\n",
      "(11055, 31)\n"
     ]
    }
   ],
   "source": [
    "import pandas as pd\n",
    "from scipy.io import arff\n",
    "\n",
    "arff_file = arff.loadarff('phishing+websites/Training Dataset.arff')\n",
    "df = pd.DataFrame(arff_file[0])\n",
    "\n",
    "print(df.head())\n",
    "print(df.shape)"
   ]
  },
  {
   "cell_type": "code",
   "execution_count": 8,
   "id": "7d73e04a-6894-4b8d-8dcc-a626d88963ff",
   "metadata": {},
   "outputs": [
    {
     "name": "stdout",
     "output_type": "stream",
     "text": [
      "<class 'pandas.core.frame.DataFrame'>\n",
      "RangeIndex: 11055 entries, 0 to 11054\n",
      "Data columns (total 31 columns):\n",
      " #   Column                       Non-Null Count  Dtype \n",
      "---  ------                       --------------  ----- \n",
      " 0   having_IP_Address            11055 non-null  object\n",
      " 1   URL_Length                   11055 non-null  object\n",
      " 2   Shortining_Service           11055 non-null  object\n",
      " 3   having_At_Symbol             11055 non-null  object\n",
      " 4   double_slash_redirecting     11055 non-null  object\n",
      " 5   Prefix_Suffix                11055 non-null  object\n",
      " 6   having_Sub_Domain            11055 non-null  object\n",
      " 7   SSLfinal_State               11055 non-null  object\n",
      " 8   Domain_registeration_length  11055 non-null  object\n",
      " 9   Favicon                      11055 non-null  object\n",
      " 10  port                         11055 non-null  object\n",
      " 11  HTTPS_token                  11055 non-null  object\n",
      " 12  Request_URL                  11055 non-null  object\n",
      " 13  URL_of_Anchor                11055 non-null  object\n",
      " 14  Links_in_tags                11055 non-null  object\n",
      " 15  SFH                          11055 non-null  object\n",
      " 16  Submitting_to_email          11055 non-null  object\n",
      " 17  Abnormal_URL                 11055 non-null  object\n",
      " 18  Redirect                     11055 non-null  object\n",
      " 19  on_mouseover                 11055 non-null  object\n",
      " 20  RightClick                   11055 non-null  object\n",
      " 21  popUpWidnow                  11055 non-null  object\n",
      " 22  Iframe                       11055 non-null  object\n",
      " 23  age_of_domain                11055 non-null  object\n",
      " 24  DNSRecord                    11055 non-null  object\n",
      " 25  web_traffic                  11055 non-null  object\n",
      " 26  Page_Rank                    11055 non-null  object\n",
      " 27  Google_Index                 11055 non-null  object\n",
      " 28  Links_pointing_to_page       11055 non-null  object\n",
      " 29  Statistical_report           11055 non-null  object\n",
      " 30  Result                       11055 non-null  object\n",
      "dtypes: object(31)\n",
      "memory usage: 2.6+ MB\n",
      "None\n"
     ]
    }
   ],
   "source": [
    "print(df.info())"
   ]
  },
  {
   "cell_type": "code",
   "execution_count": null,
   "id": "a9d7dd9b-440e-4eaa-9c04-823944461bd1",
   "metadata": {},
   "outputs": [],
   "source": []
  }
 ],
 "metadata": {
  "kernelspec": {
   "display_name": "Python 3 (ipykernel)",
   "language": "python",
   "name": "python3"
  },
  "language_info": {
   "codemirror_mode": {
    "name": "ipython",
    "version": 3
   },
   "file_extension": ".py",
   "mimetype": "text/x-python",
   "name": "python",
   "nbconvert_exporter": "python",
   "pygments_lexer": "ipython3",
   "version": "3.13.7"
  }
 },
 "nbformat": 4,
 "nbformat_minor": 5
}
